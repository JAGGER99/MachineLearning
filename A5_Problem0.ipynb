{
  "cells": [
    {
      "cell_type": "markdown",
      "metadata": {
        "id": "CUeztt__Bue_"
      },
      "source": [
        "# Linear Regression Tutorial\n",
        "by Marc Deisenroth"
      ]
    },
    {
      "cell_type": "markdown",
      "metadata": {
        "id": "rhIFj1psBufC"
      },
      "source": [
        "The purpose of this notebook is to practice implementing some linear algebra (equations provided) and to explore some properties of linear regression."
      ]
    },
    {
      "cell_type": "code",
      "execution_count": 372,
      "metadata": {
        "collapsed": true,
        "id": "ASg8Sq8eBufD"
      },
      "outputs": [],
      "source": [
        "import numpy as np\n",
        "import scipy.linalg\n",
        "import matplotlib.pyplot as plt\n",
        "%matplotlib inline"
      ]
    },
    {
      "cell_type": "markdown",
      "metadata": {
        "id": "AURa9FN3BufE"
      },
      "source": [
        "We consider a linear regression problem of the form\n",
        "$$\n",
        "y = \\boldsymbol x^T\\boldsymbol\\theta + \\epsilon\\,,\\quad \\epsilon \\sim \\mathcal N(0, \\sigma^2)\n",
        "$$\n",
        "where $\\boldsymbol x\\in\\mathbb{R}^D$ are inputs and $y\\in\\mathbb{R}$ are noisy observations. The parameter vector $\\boldsymbol\\theta\\in\\mathbb{R}^D$ parametrizes the function.\n",
        "\n",
        "We assume we have a training set $(\\boldsymbol x_n, y_n)$, $n=1,\\ldots, N$. We summarize the sets of training inputs in $\\mathcal X = \\{\\boldsymbol x_1, \\ldots, \\boldsymbol x_N\\}$ and corresponding training targets $\\mathcal Y = \\{y_1, \\ldots, y_N\\}$, respectively.\n",
        "\n",
        "In this tutorial, we are interested in finding good parameters $\\boldsymbol\\theta$."
      ]
    },
    {
      "cell_type": "code",
      "execution_count": 373,
      "metadata": {
        "collapsed": true,
        "id": "4Oz0nh-PBufE",
        "colab": {
          "base_uri": "https://localhost:8080/",
          "height": 279
        },
        "outputId": "3e063f75-7056-4c70-86e5-73d7b3592d41"
      },
      "outputs": [
        {
          "output_type": "display_data",
          "data": {
            "text/plain": [
              "<Figure size 432x288 with 1 Axes>"
            ],
            "image/png": "[encoded data removed]"
          },
          "metadata": {
            "needs_background": "light"
          }
        }
      ],
      "source": [
        "# Define training set\n",
        "X = np.array([-3, -1, 0, 1, 3]).reshape(-1,1) # 5x1 vector, N=5, D=1\n",
        "y = np.array([-1.2, -0.7, 0.14, 0.67, 1.67]).reshape(-1,1) # 5x1 vector\n",
        "\n",
        "# Plot the training set\n",
        "plt.figure()\n",
        "plt.plot(X, y, '+', markersize=10)\n",
        "plt.xlabel(\"$x$\")\n",
        "plt.ylabel(\"$y$\");"
      ]
    },
    {
      "cell_type": "markdown",
      "metadata": {
        "id": "Ezq8KcSwBufF"
      },
      "source": [
        "## 1. Maximum Likelihood\n",
        "We will start with maximum likelihood estimation of the parameters $\\boldsymbol\\theta$. In maximum likelihood estimation, we find the parameters $\\boldsymbol\\theta^{\\mathrm{ML}}$ that maximize the likelihood\n",
        "$$\n",
        "p(\\mathcal Y | \\mathcal X, \\boldsymbol\\theta) = \\prod_{n=1}^N p(y_n | \\boldsymbol x_n, \\boldsymbol\\theta)\\,.\n",
        "$$\n",
        "From the lecture we know that the maximum likelihood estimator is given by\n",
        "$$\n",
        "\\boldsymbol\\theta^{\\text{ML}} = (\\boldsymbol X^T\\boldsymbol X)^{-1}\\boldsymbol X^T\\boldsymbol y\\in\\mathbb{R}^D\\,,\n",
        "$$\n",
        "where \n",
        "$$\n",
        "\\boldsymbol X = [\\boldsymbol x_1, \\ldots, \\boldsymbol x_N]^T\\in\\mathbb{R}^{N\\times D}\\,,\\quad \\boldsymbol y = [y_1, \\ldots, y_N]^T \\in\\mathbb{R}^N\\,.\n",
        "$$"
      ]
    },
    {
      "cell_type": "markdown",
      "metadata": {
        "id": "66volMxeBufF"
      },
      "source": [
        "Let us compute the maximum likelihood estimate for a given training set"
      ]
    },
    {
      "cell_type": "code",
      "execution_count": 374,
      "metadata": {
        "collapsed": true,
        "id": "h9fZh95ZBufG"
      },
      "outputs": [],
      "source": [
        "\n",
        "def max_lik_estimate(X, y):\n",
        "    \n",
        "    # X: N x D matrix of training inputs\n",
        "    # y: N x 1 vector of training targets/observations\n",
        "    # returns: maximum likelihood parameters (D x 1)\n",
        "\n",
        "    N, D = X.shape\n",
        "    theta_ml = np.dot(np.linalg.inv(np.dot(X.T, X)), np.dot(X.T, y))\n",
        "    return theta_ml"
      ]
    },
    {
      "cell_type": "code",
      "execution_count": 375,
      "metadata": {
        "collapsed": true,
        "id": "Ef77awZLBufG",
        "colab": {
          "base_uri": "https://localhost:8080/"
        },
        "outputId": "b19834c3-1619-4c6b-d24f-451b927e81a3"
      },
      "outputs": [
        {
          "output_type": "stream",
          "name": "stdout",
          "text": [
            "[[0.499]]\n"
          ]
        }
      ],
      "source": [
        "# get maximum likelihood estimate\n",
        "theta_ml = max_lik_estimate(X,y)\n",
        "print(theta_ml)"
      ]
    },
    {
      "cell_type": "markdown",
      "metadata": {
        "id": "EJh-6TSHBufG"
      },
      "source": [
        "Now, make a prediction using the maximum likelihood estimate that we just found"
      ]
    },
    {
      "cell_type": "code",
      "execution_count": 376,
      "metadata": {
        "collapsed": true,
        "id": "LUfMfriABufH"
      },
      "outputs": [],
      "source": [
        "\n",
        "def predict_with_estimate(Xtest, theta):\n",
        "    \n",
        "    # Xtest: K x D matrix of test inputs\n",
        "    # theta: D x 1 vector of parameters\n",
        "    # returns: prediction of f(Xtest); K x 1 vector\n",
        "    \n",
        "    prediction = np.dot(Xtest, theta)\n",
        "    \n",
        "    return prediction "
      ]
    },
    {
      "cell_type": "markdown",
      "metadata": {
        "id": "AY_Bad-bBufH"
      },
      "source": [
        "Now, let's see whether we got something useful:"
      ]
    },
    {
      "cell_type": "code",
      "execution_count": 377,
      "metadata": {
        "collapsed": true,
        "id": "JuL0_HsFBufH",
        "colab": {
          "base_uri": "https://localhost:8080/",
          "height": 279
        },
        "outputId": "d9eb5253-24c4-43bd-fcc9-07d674fb6208"
      },
      "outputs": [
        {
          "output_type": "display_data",
          "data": {
            "text/plain": [
              "<Figure size 432x288 with 1 Axes>"
            ],
            "image/png": "[encoded data removed]"
          },
          "metadata": {
            "needs_background": "light"
          }
        }
      ],
      "source": [
        "# define a test set\n",
        "Xtest = np.linspace(-5,5,100).reshape(-1,1) # 100 x 1 vector of test inputs\n",
        "\n",
        "# predict the function values at the test points using the maximum likelihood estimator\n",
        "ml_prediction = predict_with_estimate(Xtest, theta_ml)\n",
        "\n",
        "# plot\n",
        "plt.figure()\n",
        "plt.plot(X, y, '+', markersize=10)\n",
        "plt.plot(Xtest, ml_prediction)\n",
        "plt.xlabel(\"$x$\")\n",
        "plt.ylabel(\"$y$\");"
      ]
    },
    {
      "cell_type": "markdown",
      "metadata": {
        "id": "xGdYR04YBufH"
      },
      "source": [
        "#### Questions\n",
        "1. Does the solution above look reasonable?\n",
        "2. Play around with different values of $\\theta$. How do the corresponding functions change?\n",
        "3. Modify the training targets $\\mathcal Y$ and re-run your computation. What changes?"
      ]
    },
    {
      "cell_type": "markdown",
      "metadata": {
        "id": "M2HzhRnfBufH"
      },
      "source": [
        "Let us now look at a different training set, where we add 2.0 to every $y$-value, and compute the maximum likelihood estimate"
      ]
    },
    {
      "cell_type": "code",
      "execution_count": 378,
      "metadata": {
        "collapsed": true,
        "id": "eS6JvMdqBufI",
        "colab": {
          "base_uri": "https://localhost:8080/",
          "height": 279
        },
        "outputId": "b32304f5-475c-4ba5-eef8-706a978fa06d"
      },
      "outputs": [
        {
          "output_type": "display_data",
          "data": {
            "text/plain": [
              "<Figure size 432x288 with 1 Axes>"
            ],
            "image/png": "[encoded data removed]"
          },
          "metadata": {
            "needs_background": "light"
          }
        }
      ],
      "source": [
        "ynew = y + 2.0\n",
        "\n",
        "plt.figure()\n",
        "plt.plot(X, ynew, '+', markersize=10)\n",
        "plt.xlabel(\"$x$\")\n",
        "plt.ylabel(\"$y$\");"
      ]
    },
    {
      "cell_type": "code",
      "execution_count": 379,
      "metadata": {
        "collapsed": true,
        "id": "wkW9hHeBBufI",
        "colab": {
          "base_uri": "https://localhost:8080/",
          "height": 296
        },
        "outputId": "1bdfbf93-fac3-4f65-ebb0-432885e43f33"
      },
      "outputs": [
        {
          "output_type": "stream",
          "name": "stdout",
          "text": [
            "[[0.499]]\n"
          ]
        },
        {
          "output_type": "display_data",
          "data": {
            "text/plain": [
              "<Figure size 432x288 with 1 Axes>"
            ],
            "image/png": "[encoded data removed]"
          },
          "metadata": {
            "needs_background": "light"
          }
        }
      ],
      "source": [
        "# get maximum likelihood estimate\n",
        "theta_ml = max_lik_estimate(X, ynew)\n",
        "print(theta_ml)\n",
        "\n",
        "# define a test set\n",
        "Xtest = np.linspace(-5,5,100).reshape(-1,1) # 100 x 1 vector of test inputs\n",
        "\n",
        "# predict the function values at the test points using the maximum likelihood estimator\n",
        "ml_prediction = predict_with_estimate(Xtest, theta_ml)\n",
        "\n",
        "# plot\n",
        "plt.figure()\n",
        "plt.plot(X, ynew, '+', markersize=10)\n",
        "plt.plot(Xtest, ml_prediction)\n",
        "plt.xlabel(\"$x$\")\n",
        "plt.ylabel(\"$y$\");"
      ]
    },
    {
      "cell_type": "markdown",
      "metadata": {
        "id": "JW8NHk4zBufI"
      },
      "source": [
        "#### Question:\n",
        "1. This maximum likelihood estimate doesn't look too good: The orange line is too far away from the observations although we just shifted them by 2. Why is this the case?\n",
        "2. How can we fix this problem?"
      ]
    },
    {
      "cell_type": "markdown",
      "metadata": {
        "id": "rpDmajOyBufJ"
      },
      "source": [
        "Let us now define a linear regression model that is slightly more flexible:\n",
        "$$\n",
        "y = \\theta_0 + \\boldsymbol x^T \\boldsymbol\\theta_1 + \\epsilon\\,,\\quad \\epsilon\\sim\\mathcal N(0,\\sigma^2)\n",
        "$$\n",
        "Here, we added an offset (bias) parameter $\\theta_0$ to our original model."
      ]
    },
    {
      "cell_type": "markdown",
      "metadata": {
        "id": "tLMYCRtLBufJ"
      },
      "source": [
        "#### Question:\n",
        "1. What is the effect of this bias parameter, i.e., what additional flexibility does it offer?"
      ]
    },
    {
      "cell_type": "markdown",
      "metadata": {
        "id": "jZ0CtXnQBufJ"
      },
      "source": [
        "If we now define the inputs to be the augmented vector $\\boldsymbol x_{\\text{aug}} = \\begin{bmatrix}1\\\\\\boldsymbol x\\end{bmatrix}$, we can write the new linear regression model as \n",
        "$$\n",
        "y = \\boldsymbol x_{\\text{aug}}^T\\boldsymbol\\theta_{\\text{aug}} + \\epsilon\\,,\\quad \\boldsymbol\\theta_{\\text{aug}} = \\begin{bmatrix}\n",
        "\\theta_0\\\\\n",
        "\\boldsymbol\\theta_1\n",
        "\\end{bmatrix}\\,.\n",
        "$$"
      ]
    },
    {
      "cell_type": "code",
      "execution_count": 380,
      "metadata": {
        "collapsed": true,
        "id": "DpK-M2cEBufJ",
        "colab": {
          "base_uri": "https://localhost:8080/"
        },
        "outputId": "4877f3f9-1c38-409b-8328-b84ee0420839"
      },
      "outputs": [
        {
          "output_type": "stream",
          "name": "stdout",
          "text": [
            "N: 5\n",
            "D: 1\n",
            "[[ 1. -3.]\n",
            " [ 1. -1.]\n",
            " [ 1.  0.]\n",
            " [ 1.  1.]\n",
            " [ 1.  3.]]\n",
            "[[0.]\n",
            " [0.]]\n"
          ]
        }
      ],
      "source": [
        "N, D = X.shape\n",
        "print(\"N: \" + str(N))\n",
        "print(\"D: \" + str(D))\n",
        "X_aug = np.hstack([np.ones((N,1)), X]) # augmented training inputs of size N x (D+1)\n",
        "print(X_aug)\n",
        "theta_aug = np.zeros((D+1, 1)) # new theta vector of size (D+1) x 1\n",
        "print(theta_aug)"
      ]
    },
    {
      "cell_type": "markdown",
      "metadata": {
        "id": "CGB-9qxKBufK"
      },
      "source": [
        "Let us now compute the maximum likelihood estimator for this setting.\n",
        "_Hint:_ If possible, re-use code that you have already written"
      ]
    },
    {
      "cell_type": "code",
      "execution_count": 381,
      "metadata": {
        "collapsed": true,
        "id": "d6tY8cqWBufK"
      },
      "outputs": [],
      "source": [
        "\n",
        "def max_lik_estimate_aug(X_aug, y):\n",
        "    \n",
        "    theta_aug_ml = np.dot(np.linalg.inv(np.dot(X_aug.T, X_aug)), np.dot(X_aug.T, y))\n",
        "    \n",
        "    return theta_aug_ml"
      ]
    },
    {
      "cell_type": "code",
      "execution_count": 382,
      "metadata": {
        "collapsed": true,
        "id": "OawWub-fBufK",
        "colab": {
          "base_uri": "https://localhost:8080/"
        },
        "outputId": "e0df699c-fe69-4ced-85a1-e7fcb298a6a3"
      },
      "outputs": [
        {
          "output_type": "stream",
          "name": "stdout",
          "text": [
            "[[0.116]\n",
            " [0.499]]\n"
          ]
        }
      ],
      "source": [
        "theta_aug_ml = max_lik_estimate_aug(X_aug, y)\n",
        "print(theta_aug_ml)"
      ]
    },
    {
      "cell_type": "markdown",
      "metadata": {
        "id": "Go_NyU-eBufK"
      },
      "source": [
        "Now, we can make predictions again:"
      ]
    },
    {
      "cell_type": "code",
      "execution_count": 383,
      "metadata": {
        "collapsed": true,
        "id": "pbYN3d5LBufL",
        "colab": {
          "base_uri": "https://localhost:8080/",
          "height": 279
        },
        "outputId": "1ad71807-8686-4451-a10e-5959bd725e29"
      },
      "outputs": [
        {
          "output_type": "display_data",
          "data": {
            "text/plain": [
              "<Figure size 432x288 with 1 Axes>"
            ],
            "image/png": "[encoded data removed]"
          },
          "metadata": {
            "needs_background": "light"
          }
        }
      ],
      "source": [
        "# define a test set (we also need to augment the test inputs with ones)\n",
        "Xtest_aug = np.hstack([np.ones((Xtest.shape[0],1)), Xtest]) # 100 x (D + 1) vector of test inputs\n",
        "\n",
        "# predict the function values at the test points using the maximum likelihood estimator\n",
        "ml_prediction = predict_with_estimate(Xtest_aug, theta_aug_ml)\n",
        "\n",
        "# plot\n",
        "plt.figure()\n",
        "plt.plot(X, y, '+', markersize=10)\n",
        "plt.plot(Xtest, ml_prediction)\n",
        "plt.xlabel(\"$x$\")\n",
        "plt.ylabel(\"$y$\");"
      ]
    },
    {
      "cell_type": "markdown",
      "metadata": {
        "id": "kLruNqGCBufL"
      },
      "source": [
        "It seems this has solved our problem! \n",
        "#### Question:\n",
        "1. Play around with the first parameter of $\\boldsymbol\\theta_{\\text{aug}}$ and see how the fit of the function changes.\n",
        "2. Play around with the second parameter of $\\boldsymbol\\theta_{\\text{aug}}$ and see how the fit of the function changes."
      ]
    },
    {
      "cell_type": "markdown",
      "metadata": {
        "id": "vBr5IFbkBufL"
      },
      "source": [
        "### Nonlinear Features\n",
        "So far, we have looked at linear regression with linear features. This allowed us to fit straight lines. However, linear regression also allows us to fit functions that are nonlinear in the inputs $\\boldsymbol x$, as long as the parameters $\\boldsymbol\\theta$ appear linearly. This means, we can learn functions of the form\n",
        "$$\n",
        "f(\\boldsymbol x, \\boldsymbol\\theta) = \\sum_{k = 1}^K \\theta_k \\phi_k(\\boldsymbol x)\\,,\n",
        "$$\n",
        "where the features $\\phi_k(\\boldsymbol x)$ are (possibly nonlinear) transformations of the inputs $\\boldsymbol x$.\n",
        "\n",
        "Let us have a look at an example where the observations clearly do not lie on a straight line:"
      ]
    },
    {
      "cell_type": "code",
      "execution_count": 384,
      "metadata": {
        "collapsed": true,
        "id": "xnzRu5ugBufL",
        "colab": {
          "base_uri": "https://localhost:8080/",
          "height": 279
        },
        "outputId": "4d109d58-bb65-4290-ae1a-e2405f67ea5c"
      },
      "outputs": [
        {
          "output_type": "display_data",
          "data": {
            "text/plain": [
              "<Figure size 432x288 with 1 Axes>"
            ],
            "image/png": "[encoded data removed]"
          },
          "metadata": {
            "needs_background": "light"
          }
        }
      ],
      "source": [
        "y = np.array([10.05, 1.5, -1.234, 0.02, 8.03]).reshape(-1,1)\n",
        "plt.figure()\n",
        "plt.plot(X, y, '+')\n",
        "plt.xlabel(\"$x$\")\n",
        "plt.ylabel(\"$y$\");"
      ]
    },
    {
      "cell_type": "markdown",
      "metadata": {
        "id": "7u5hvTuKBufM"
      },
      "source": [
        "#### Polynomial Regression\n",
        "One class of functions that is covered by linear regression is the family of polynomials because we can write a polynomial of degree $K$ as\n",
        "$$\n",
        "\\sum_{k=0}^K \\theta_k x^k = \\boldsymbol \\phi(x)^T\\boldsymbol\\theta\\,,\\quad\n",
        "\\boldsymbol\\phi(x)= \n",
        "\\begin{bmatrix}\n",
        "x^0\\\\\n",
        "x^1\\\\\n",
        "\\vdots\\\\\n",
        "x^K\n",
        "\\end{bmatrix}\\in\\mathbb{R}^{K+1}\\,.\n",
        "$$\n",
        "Here, $\\boldsymbol\\phi(x)$ is a nonlinear feature transformation of the inputs $x\\in\\mathbb{R}$.\n",
        "\n",
        "Similar to the earlier case we can define a matrix that collects all the feature transformations of the training inputs:\n",
        "$$\n",
        "\\boldsymbol\\Phi = \\begin{bmatrix}\n",
        "\\boldsymbol\\phi(x_1) & \\boldsymbol\\phi(x_2) & \\cdots & \\boldsymbol\\phi(x_n)\n",
        "\\end{bmatrix}^T \\in\\mathbb{R}^{N\\times K+1}\n",
        "$$"
      ]
    },
    {
      "cell_type": "markdown",
      "metadata": {
        "id": "5Qjgk-__BufM"
      },
      "source": [
        "Let us start by computing the feature matrix $\\boldsymbol \\Phi$"
      ]
    },
    {
      "cell_type": "code",
      "execution_count": 385,
      "metadata": {
        "collapsed": true,
        "id": "c5ezHpI7BufM"
      },
      "outputs": [],
      "source": [
        "\n",
        "def poly_features(X, K):\n",
        "    \n",
        "    # X: inputs of size N x 1\n",
        "    # K: degree of the polynomial\n",
        "    # computes the feature matrix Phi (N x (K+1))\n",
        "    \n",
        "    X = X.flatten()\n",
        "    N = X.shape[0]\n",
        "\n",
        "    #initialize Phi\n",
        "    Phi = np.zeros((N, K+1))\n",
        "    arr_list = []\n",
        "    # Compute the feature matrix in stages:\n",
        "    for i in range(K+1):\n",
        "      X_i_power = X**i\n",
        "      arr_list.append(X_i_power)\n",
        "      \n",
        "    Phi = np.stack(arr_list, axis=0).T\n",
        "    return Phi\n"
      ]
    },
    {
      "cell_type": "markdown",
      "metadata": {
        "id": "UulsG6FlBufM"
      },
      "source": [
        "With this feature matrix we get the maximum likelihood estimator as\n",
        "$$\n",
        "\\boldsymbol \\theta^\\text{ML} = (\\boldsymbol\\Phi^T\\boldsymbol\\Phi)^{-1}\\boldsymbol\\Phi^T\\boldsymbol y\n",
        "$$\n",
        "For reasons of numerical stability, we often add a small diagonal \"jitter\" $\\kappa>0$ to $\\boldsymbol\\Phi^T\\boldsymbol\\Phi$ so that we can invert the matrix without significant problems so that the maximum likelihood estimate becomes\n",
        "$$\n",
        "\\boldsymbol \\theta^\\text{ML} = (\\boldsymbol\\Phi^T\\boldsymbol\\Phi + \\kappa\\boldsymbol I)^{-1}\\boldsymbol\\Phi^T\\boldsymbol y\n",
        "$$"
      ]
    },
    {
      "cell_type": "code",
      "execution_count": 386,
      "metadata": {
        "collapsed": true,
        "id": "9ibQfwckBufM"
      },
      "outputs": [],
      "source": [
        "\n",
        "def nonlinear_features_maximum_likelihood(Phi, y):\n",
        "    # Phi: features matrix for training inputs. Size of N x D\n",
        "    # y: training targets. Size of N by 1\n",
        "    # returns: maximum likelihood estimator theta_ml. Size of D x 1\n",
        "    \n",
        "    kappa = 1e-08 # 'jitter' term; good for numerical stability\n",
        "    \n",
        "    D = Phi.shape[1]  \n",
        "    \n",
        "    # maximum likelihood estimate\n",
        "    theta_ml = np.dot(np.linalg.inv(np.dot(Phi.T, Phi) + (kappa * np.eye(D))), np.dot(Phi.T, y))\n",
        "  \n",
        "    \n",
        "    return theta_ml"
      ]
    },
    {
      "cell_type": "markdown",
      "metadata": {
        "id": "SYQ3PJJABufN"
      },
      "source": [
        "Now we have all the ingredients together: The computation of the feature matrix and the computation of the maximum likelihood estimator for polynomial regression. Let's see how this works.\n",
        "\n",
        "To make predictions at test inputs $\\boldsymbol X_{\\text{test}}\\in\\mathbb{R}$, we need to compute the features (nonlinear transformations) $\\boldsymbol\\Phi_{\\text{test}}= \\boldsymbol\\phi(\\boldsymbol X_{\\text{test}})$ of $\\boldsymbol X_{\\text{test}}$ to give us the predicted mean\n",
        "$$\n",
        "\\mathbb{E}[\\boldsymbol y_{\\text{test}}] = \\boldsymbol \\Phi_{\\text{test}}\\boldsymbol\\theta^{\\text{ML}}\n",
        "$$"
      ]
    },
    {
      "cell_type": "code",
      "execution_count": 387,
      "metadata": {
        "collapsed": true,
        "id": "XpU_UvvTBufN",
        "colab": {
          "base_uri": "https://localhost:8080/",
          "height": 279
        },
        "outputId": "4ab78bba-4a78-400c-b0ce-646f1c688342"
      },
      "outputs": [
        {
          "output_type": "display_data",
          "data": {
            "text/plain": [
              "<Figure size 432x288 with 1 Axes>"
            ],
            "image/png": "[encoded data removed]"
          },
          "metadata": {
            "needs_background": "light"
          }
        }
      ],
      "source": [
        "K = 5 # Define the degree of the polynomial we wish to fit\n",
        "Phi = poly_features(X, K) # N x (K+1) feature matrix\n",
        "\n",
        "theta_ml = nonlinear_features_maximum_likelihood(Phi, y) # maximum likelihood estimator\n",
        "\n",
        "# test inputs\n",
        "Xtest = np.linspace(-4,4,100).reshape(-1,1)\n",
        "\n",
        "# feature matrix for test inputs\n",
        "Phi_test = poly_features(Xtest, K)\n",
        "\n",
        "y_pred = Phi_test @ theta_ml # predicted y-values\n",
        "\n",
        "plt.figure()\n",
        "plt.plot(X, y, '+')\n",
        "plt.plot(Xtest, y_pred)\n",
        "plt.xlabel(\"$x$\")\n",
        "plt.ylabel(\"$y$\");"
      ]
    },
    {
      "cell_type": "markdown",
      "metadata": {
        "id": "VAXCoKVYBufN"
      },
      "source": [
        "Experiment with different polynomial degrees in the code above.\n",
        "#### Questions:\n",
        "1. What do you observe?\n",
        "2. What is a good fit?"
      ]
    },
    {
      "cell_type": "markdown",
      "metadata": {
        "id": "tYJS9JsRBufN"
      },
      "source": [
        "## Evaluating the Quality of the Model"
      ]
    },
    {
      "cell_type": "markdown",
      "metadata": {
        "id": "Pixk44d-BufN"
      },
      "source": [
        "Let us have a look at a more interesting data set"
      ]
    },
    {
      "cell_type": "code",
      "execution_count": 388,
      "metadata": {
        "collapsed": true,
        "id": "ghBwN9TqBufN",
        "colab": {
          "base_uri": "https://localhost:8080/",
          "height": 279
        },
        "outputId": "7438a0c6-3cd7-4b8d-a33d-1185d508d5ed"
      },
      "outputs": [
        {
          "output_type": "display_data",
          "data": {
            "text/plain": [
              "<Figure size 432x288 with 1 Axes>"
            ],
            "image/png": "[encoded data removed]"
          },
          "metadata": {
            "needs_background": "light"
          }
        }
      ],
      "source": [
        "def f(x):   \n",
        "    return np.cos(x) + 0.2*np.random.normal(size=(x.shape))\n",
        "\n",
        "X = np.linspace(-4,4,20).reshape(-1,1)\n",
        "y = f(X)\n",
        "\n",
        "plt.figure()\n",
        "plt.plot(X, y, '+')\n",
        "plt.xlabel(\"$x$\")\n",
        "plt.ylabel(\"$y$\");"
      ]
    },
    {
      "cell_type": "markdown",
      "metadata": {
        "id": "_SnHwwV5BufO"
      },
      "source": [
        "Now, let us use the work from above and fit polynomials to this dataset."
      ]
    },
    {
      "cell_type": "code",
      "execution_count": 389,
      "metadata": {
        "collapsed": true,
        "id": "5S1s7ZIlBufO",
        "colab": {
          "base_uri": "https://localhost:8080/",
          "height": 296
        },
        "outputId": "bff3131d-7371-4f45-962c-3b0d114974f9"
      },
      "outputs": [
        {
          "output_type": "stream",
          "name": "stdout",
          "text": [
            "(100, 1)\n"
          ]
        },
        {
          "output_type": "display_data",
          "data": {
            "text/plain": [
              "<Figure size 432x288 with 1 Axes>"
            ],
            "image/png": "[encoded data removed]"
          },
          "metadata": {
            "needs_background": "light"
          }
        }
      ],
      "source": [
        "\n",
        "K = 2 # Define the degree of the polynomial we wish to fit\n",
        "\n",
        "Phi = poly_features(X, K) # N x (K+1) feature matrix\n",
        "\n",
        "theta_ml = nonlinear_features_maximum_likelihood(Phi, y) # maximum likelihood estimator\n",
        "\n",
        "# test inputs\n",
        "Xtest = np.linspace(-5,5,100).reshape(-1,1)\n",
        "ytest = f(Xtest) # ground-truth y-values\n",
        "\n",
        "print(ytest.shape)\n",
        "\n",
        "# feature matrix for test inputs\n",
        "Phi_test = poly_features(Xtest, K)\n",
        "\n",
        "y_pred = Phi_test @ theta_ml\n",
        "\n",
        "# plot\n",
        "plt.figure()\n",
        "plt.plot(X, y, '+')\n",
        "plt.plot(Xtest, y_pred)\n",
        "plt.plot(Xtest, ytest)\n",
        "plt.legend([\"data\", \"prediction\", \"ground truth observations\"])\n",
        "plt.xlabel(\"$x$\")\n",
        "plt.ylabel(\"$y$\");"
      ]
    },
    {
      "cell_type": "markdown",
      "metadata": {
        "id": "GE4TlHtPBufO"
      },
      "source": [
        "#### Questions:\n",
        "1. Try out different degrees of polynomials. \n",
        "2. Based on visual inspection, what looks like the best fit?"
      ]
    },
    {
      "cell_type": "markdown",
      "metadata": {
        "id": "KbCWCJu6BufO"
      },
      "source": [
        "Let us now look at a more systematic way to assess the quality of the polynomial that we are trying to fit. For this, we compute the root-mean-squared-error (RMSE) between the $y$-values predicted by our polynomial and the ground-truth $y$-values. The RMSE is then defined as\n",
        "$$\n",
        "\\text{RMSE} = \\sqrt{\\frac{1}{N}\\sum_{n=1}^N(y_n - y_n^\\text{pred})^2}\n",
        "$$\n",
        "Write a function that computes the RMSE."
      ]
    },
    {
      "cell_type": "code",
      "execution_count": 390,
      "metadata": {
        "collapsed": true,
        "id": "MCM_i-nyBufO"
      },
      "outputs": [],
      "source": [
        "\n",
        "def RMSE(y, ypred):\n",
        "    diff = np.subtract(y, ypred)\n",
        "    mse = np.square(diff).mean() \n",
        "    rmse = np.sqrt(mse)\n",
        "\n",
        "    return rmse"
      ]
    },
    {
      "cell_type": "markdown",
      "metadata": {
        "id": "LZbhV7f2BufO"
      },
      "source": [
        "Now compute the RMSE for different degrees of the polynomial we want to fit."
      ]
    },
    {
      "cell_type": "code",
      "execution_count": 391,
      "metadata": {
        "collapsed": true,
        "id": "ZkA3n0ZPBufO",
        "colab": {
          "base_uri": "https://localhost:8080/",
          "height": 279
        },
        "outputId": "5c75fb28-1d00-4ef3-8d69-494333d8cf64"
      },
      "outputs": [
        {
          "output_type": "display_data",
          "data": {
            "text/plain": [
              "<Figure size 432x288 with 1 Axes>"
            ],
            "image/png": "[encoded data removed]"
          },
          "metadata": {
            "needs_background": "light"
          }
        }
      ],
      "source": [
        "\n",
        "K_max = 20\n",
        "rmse_train = np.zeros((K_max+1,))\n",
        "\n",
        "for k in range(K_max+1):\n",
        "    \n",
        "    K = k # Define the degree of the polynomial we wish to fit\n",
        "\n",
        "    Phi = poly_features(X, K) # N x (K+1) feature matrix\n",
        "\n",
        "    theta_ml = nonlinear_features_maximum_likelihood(Phi, y) # maximum likelihood estimator\n",
        "\n",
        "    y_pred = Phi @ theta_ml\n",
        "\n",
        "    rmse_train[k] = RMSE(y, y_pred)\n",
        "        \n",
        "\n",
        "plt.figure()\n",
        "plt.plot(rmse_train)\n",
        "\n",
        "plt.xlabel(\"degree of polynomial\")\n",
        "plt.ylabel(\"RMSE\");"
      ]
    },
    {
      "cell_type": "markdown",
      "metadata": {
        "id": "pKWUmXDzBufO"
      },
      "source": [
        "#### Question: \n",
        "1. What do you observe?\n",
        "2. What is the best polynomial fit according to this plot?\n",
        "3. Write some code that plots the function that uses the best polynomial degree (use the test set for this plot). What do you observe now?"
      ]
    },
    {
      "cell_type": "code",
      "execution_count": 392,
      "metadata": {
        "collapsed": true,
        "id": "8JBMOL8BBufP",
        "colab": {
          "base_uri": "https://localhost:8080/",
          "height": 279
        },
        "outputId": "0942b378-c962-4436-d622-a8dec7602fd3"
      },
      "outputs": [
        {
          "output_type": "display_data",
          "data": {
            "text/plain": [
              "<Figure size 432x288 with 1 Axes>"
            ],
            "image/png": "[encoded data removed]"
          },
          "metadata": {
            "needs_background": "light"
          }
        }
      ],
      "source": [
        "\n",
        "plt.figure()\n",
        "plt.plot(X, y, '+')\n",
        "\n",
        "K = 18 # the degree of the polynomial appearing to have the best fit\n",
        "\n",
        "Phi = poly_features(X, K) # N x (K+1) feature matrix\n",
        "\n",
        "theta_ml = nonlinear_features_maximum_likelihood(Phi, y) # maximum likelihood estimator\n",
        "\n",
        "# feature matrix for test inputs\n",
        "Phi_test = poly_features(Xtest, K)\n",
        "\n",
        "ypred_test = Phi_test @ theta_ml\n",
        "\n",
        "plt.plot(Xtest, ypred_test) \n",
        "plt.xlabel(\"$x$\")\n",
        "plt.ylabel(\"$y$\")\n",
        "plt.legend([\"data\", \"maximum likelihood fit\"]);"
      ]
    },
    {
      "cell_type": "markdown",
      "metadata": {
        "id": "gJehhFOuBufP"
      },
      "source": [
        "The RMSE on the training data is somewhat misleading, because we are interested in the generalization performance of the model. Therefore, we are going to compute the RMSE on the test set and use this to choose a good polynomial degree."
      ]
    },
    {
      "cell_type": "code",
      "execution_count": 393,
      "metadata": {
        "collapsed": true,
        "id": "Tz5ZwTm3BufP",
        "colab": {
          "base_uri": "https://localhost:8080/",
          "height": 279
        },
        "outputId": "d7cc3fe1-2997-4a16-ba27-46d5f59c99a0"
      },
      "outputs": [
        {
          "output_type": "display_data",
          "data": {
            "text/plain": [
              "<Figure size 432x288 with 1 Axes>"
            ],
            "image/png": "[encoded data removed]"
          },
          "metadata": {
            "needs_background": "light"
          }
        }
      ],
      "source": [
        "## EDIT THIS CELL\n",
        "K_max = 20\n",
        "rmse_train = np.zeros((K_max+1,))\n",
        "rmse_test = np.zeros((K_max+1,))\n",
        "\n",
        "for k in range(K_max+1):\n",
        "    \n",
        "    # feature matrix\n",
        "    Phi = poly_features(X, k) # N x (K+1) feature matrix\n",
        "\n",
        "    # maximum likelihood estimate\n",
        "    theta_ml = nonlinear_features_maximum_likelihood(Phi, y) # maximum likelihood estimator\n",
        "\n",
        "    # predict y-values of training set\n",
        "    y_pred = Phi @ theta_ml\n",
        "\n",
        "    # RMSE on training set\n",
        "    rmse_train[k] = RMSE(y, y_pred)\n",
        "\n",
        "    \n",
        "\n",
        "    # feature matrix for test inputs\n",
        "    Phi_test = poly_features(Xtest, k)\n",
        "\n",
        "    # prediction (test set)\n",
        "    ypred_test = Phi_test @ theta_ml\n",
        "    \n",
        "    # RMSE on test set\n",
        "    rmse_test[k] = RMSE(ytest, ypred_test)\n",
        "    \n",
        "\n",
        "plt.figure()\n",
        "plt.semilogy(rmse_train) # this plots the RMSE on a logarithmic scale\n",
        "plt.semilogy(rmse_test) # this plots the RMSE on a logarithmic scale\n",
        "plt.xlabel(\"degree of polynomial\")\n",
        "plt.ylabel(\"RMSE\")\n",
        "plt.legend([\"training set\", \"test set\"]);"
      ]
    },
    {
      "cell_type": "markdown",
      "metadata": {
        "id": "ALL-cOhsBufP"
      },
      "source": [
        "#### Questions:\n",
        "1. What do you observe now?\n",
        "2. Why does the RMSE for the test set not always go down?\n",
        "3. Which polynomial degree would you choose now?\n",
        "4. Plot the fit for the \"best\" polynomial degree."
      ]
    },
    {
      "cell_type": "code",
      "execution_count": 394,
      "metadata": {
        "collapsed": true,
        "id": "263PHs9oBufP",
        "colab": {
          "base_uri": "https://localhost:8080/",
          "height": 279
        },
        "outputId": "cf9523a0-a06c-4d53-8b31-586be65f012f"
      },
      "outputs": [
        {
          "output_type": "display_data",
          "data": {
            "text/plain": [
              "<Figure size 432x288 with 1 Axes>"
            ],
            "image/png": "[encoded data removed]"
          },
          "metadata": {
            "needs_background": "light"
          }
        }
      ],
      "source": [
        "# WRITE THE PLOTTING CODE HERE\n",
        "plt.figure()\n",
        "plt.plot(X, y, '+')\n",
        "\n",
        "K = 8 # the degree of the polynomial appearing to have the best fit\n",
        "\n",
        "Phi = poly_features(X, K) # N x (K+1) feature matrix\n",
        "\n",
        "theta_ml = nonlinear_features_maximum_likelihood(Phi, y) # maximum likelihood estimator\n",
        "\n",
        "# feature matrix for test inputs\n",
        "Phi_test = poly_features(Xtest, K)\n",
        "\n",
        "ypred_test = Phi_test @ theta_ml\n",
        "\n",
        "plt.plot(Xtest, ypred_test) \n",
        "plt.xlabel(\"$x$\")\n",
        "plt.ylabel(\"$y$\")\n",
        "plt.legend([\"data\", \"maximum likelihood fit\"]);"
      ]
    },
    {
      "cell_type": "markdown",
      "metadata": {
        "id": "pLPqYUuKBufP"
      },
      "source": [
        "#### Question\n",
        "If you did not have a designated test set, what could you do to estimate the generalization error (purely using the training set)?"
      ]
    },
    {
      "cell_type": "markdown",
      "metadata": {
        "id": "xSfMjCudBufP"
      },
      "source": [
        "## 2. Maximum A Posteriori Estimation"
      ]
    },
    {
      "cell_type": "markdown",
      "metadata": {
        "id": "S5OtPLp2BufP"
      },
      "source": [
        "We are still considering the model\n",
        "$$\n",
        "y = \\boldsymbol\\phi(\\boldsymbol x)^T\\boldsymbol\\theta + \\epsilon\\,,\\quad \\epsilon\\sim\\mathcal N(0,\\sigma^2)\\,.\n",
        "$$\n",
        "We assume that the noise variance $\\sigma^2$ is known."
      ]
    },
    {
      "cell_type": "markdown",
      "metadata": {
        "id": "WRa5-NK5BufP"
      },
      "source": [
        "Instead of maximizing the likelihood, we can look at the maximum of the posterior distribution on the parameters $\\boldsymbol\\theta$, which is given as\n",
        "$$\n",
        "p(\\boldsymbol\\theta|\\mathcal X, \\mathcal Y) = \\frac{\\overbrace{p(\\mathcal Y|\\mathcal X, \\boldsymbol\\theta)}^{\\text{likelihood}}\\overbrace{p(\\boldsymbol\\theta)}^{\\text{prior}}}{\\underbrace{p(\\mathcal Y|\\mathcal X)}_{\\text{evidence}}}\n",
        "$$\n",
        "The purpose of the parameter prior $p(\\boldsymbol\\theta)$ is to discourage the parameters to attain extreme values, a sign that the model overfits. The prior allows us to specify a \"reasonable\" range of parameter values. Typically, we choose a Gaussian prior $\\mathcal N(\\boldsymbol 0, \\alpha^2\\boldsymbol I)$, centered at $\\boldsymbol 0$ with variance $\\alpha^2$ along each parameter dimension."
      ]
    },
    {
      "cell_type": "markdown",
      "metadata": {
        "id": "MaQjpXIFBufQ"
      },
      "source": [
        "The MAP estimate of the parameters is\n",
        "$$\n",
        "\\boldsymbol\\theta^{\\text{MAP}} = (\\boldsymbol\\Phi^T\\boldsymbol\\Phi + \\frac{\\sigma^2}{\\alpha^2}\\boldsymbol I)^{-1}\\boldsymbol\\Phi^T\\boldsymbol y\n",
        "$$\n",
        "where $\\sigma^2$ is the variance of the noise."
      ]
    },
    {
      "cell_type": "code",
      "execution_count": 395,
      "metadata": {
        "collapsed": true,
        "id": "lsEKFIGsBufQ"
      },
      "outputs": [],
      "source": [
        "\n",
        "def map_estimate_poly(Phi, y, sigma, alpha):\n",
        "    # Phi: training inputs, Size of N x D\n",
        "    # y: training targets, Size of D x 1\n",
        "    # sigma: standard deviation of the noise \n",
        "    # alpha: standard deviation of the prior on the parameters\n",
        "    # returns: MAP estimate theta_map, Size of D x 1\n",
        "    \n",
        "    D = Phi.shape[1] \n",
        "    \n",
        "    theta_map = np.dot(np.linalg.inv(np.dot(Phi.T, Phi) + (np.square(sigma/alpha) * np.eye(D))), np.dot(Phi.T, y))\n",
        "    \n",
        "    return theta_map"
      ]
    },
    {
      "cell_type": "code",
      "execution_count": 396,
      "metadata": {
        "collapsed": true,
        "id": "MBGpI7X3BufQ"
      },
      "outputs": [],
      "source": [
        "# define the function we wish to estimate later\n",
        "def g(x, sigma):\n",
        "    p = np.hstack([x**0, x**1, np.sin(x)])\n",
        "    w = np.array([-1.0, 0.1, 1.0]).reshape(-1,1)\n",
        "    return p @ w + sigma*np.random.normal(size=x.shape) "
      ]
    },
    {
      "cell_type": "code",
      "execution_count": 397,
      "metadata": {
        "collapsed": true,
        "id": "kTzaGXVhBufQ",
        "colab": {
          "base_uri": "https://localhost:8080/",
          "height": 279
        },
        "outputId": "34356832-9677-4d0e-b857-e9c86a7462f1"
      },
      "outputs": [
        {
          "output_type": "display_data",
          "data": {
            "text/plain": [
              "<Figure size 432x288 with 1 Axes>"
            ],
            "image/png": "[encoded data removed]"
          },
          "metadata": {
            "needs_background": "light"
          }
        }
      ],
      "source": [
        "# Generate some data\n",
        "sigma = 1.0 # noise standard deviation\n",
        "alpha = 1.0 # standard deviation of the parameter prior\n",
        "N = 20\n",
        "\n",
        "np.random.seed(42)\n",
        "\n",
        "X = (np.random.rand(N)*10.0 - 5.0).reshape(-1,1)\n",
        "y = g(X, sigma) # training targets\n",
        "\n",
        "plt.figure()\n",
        "plt.plot(X, y, '+')\n",
        "plt.xlabel(\"$x$\")\n",
        "plt.ylabel(\"$y$\");"
      ]
    },
    {
      "cell_type": "code",
      "execution_count": 398,
      "metadata": {
        "collapsed": true,
        "id": "NT3MysYMBufQ",
        "colab": {
          "base_uri": "https://localhost:8080/",
          "height": 269
        },
        "outputId": "44df382d-74e2-468e-8333-a696c3d7bb58"
      },
      "outputs": [
        {
          "output_type": "display_data",
          "data": {
            "text/plain": [
              "<Figure size 432x288 with 1 Axes>"
            ],
            "image/png": "[encoded data removed]"
          },
          "metadata": {
            "needs_background": "light"
          }
        }
      ],
      "source": [
        "# get the MAP estimate\n",
        "K = 8 # polynomial degree   \n",
        "\n",
        "\n",
        "# feature matrix\n",
        "Phi = poly_features(X, K)\n",
        "\n",
        "theta_map = map_estimate_poly(Phi, y, sigma, alpha)\n",
        "\n",
        "# maximum likelihood estimate\n",
        "theta_ml = nonlinear_features_maximum_likelihood(Phi, y)\n",
        "\n",
        "Xtest = np.linspace(-5,5,100).reshape(-1,1)\n",
        "ytest = g(Xtest, sigma)\n",
        "\n",
        "Phi_test = poly_features(Xtest, K)\n",
        "y_pred_map = Phi_test @ theta_map\n",
        "\n",
        "y_pred_mle = Phi_test @ theta_ml\n",
        "\n",
        "plt.figure()\n",
        "plt.plot(X, y, '+')\n",
        "plt.plot(Xtest, y_pred_map)\n",
        "plt.plot(Xtest, g(Xtest, 0))\n",
        "plt.plot(Xtest, y_pred_mle)\n",
        "\n",
        "plt.legend([\"data\", \"map prediction\", \"ground truth function\", \"maximum likelihood\"]);"
      ]
    },
    {
      "cell_type": "code",
      "execution_count": 399,
      "metadata": {
        "collapsed": true,
        "id": "IqECQ86BBufQ",
        "colab": {
          "base_uri": "https://localhost:8080/"
        },
        "outputId": "dca035a5-20f2-4dee-edf4-8e4b31309b4c"
      },
      "outputs": [
        {
          "output_type": "stream",
          "name": "stdout",
          "text": [
            "[[-1.49712990e+00 -1.08154986e+00]\n",
            " [ 8.56868912e-01  6.09177023e-01]\n",
            " [-1.28335730e-01 -3.62071208e-01]\n",
            " [-7.75319509e-02 -3.70531732e-03]\n",
            " [ 3.56425467e-02  7.43090617e-02]\n",
            " [-4.11626749e-03 -1.03278646e-02]\n",
            " [-2.48817783e-03 -4.89363010e-03]\n",
            " [ 2.70146690e-04  4.24148554e-04]\n",
            " [ 5.35996050e-05  1.03384719e-04]]\n"
          ]
        }
      ],
      "source": [
        "print(np.hstack([theta_ml, theta_map]))"
      ]
    },
    {
      "cell_type": "markdown",
      "metadata": {
        "id": "h9wCBIqXBufQ"
      },
      "source": [
        "Now, let us compute the RMSE for different polynomial degrees and see whether the MAP estimate addresses the overfitting issue we encountered with the maximum likelihood estimate."
      ]
    },
    {
      "cell_type": "code",
      "execution_count": 400,
      "metadata": {
        "collapsed": true,
        "id": "BICF-LZmBufR",
        "colab": {
          "base_uri": "https://localhost:8080/",
          "height": 296
        },
        "outputId": "487cc566-312b-40f0-dbe6-170f93d2eb6a"
      },
      "outputs": [
        {
          "output_type": "execute_result",
          "data": {
            "text/plain": [
              "<matplotlib.legend.Legend at 0x7f53b0aeb880>"
            ]
          },
          "metadata": {},
          "execution_count": 400
        },
        {
          "output_type": "display_data",
          "data": {
            "text/plain": [
              "<Figure size 432x288 with 1 Axes>"
            ],
            "image/png": "[encoded data removed]"
          },
          "metadata": {
            "needs_background": "light"
          }
        }
      ],
      "source": [
        "\n",
        "K_max = 12 # this is the maximum degree of polynomial we will consider\n",
        "assert(K_max < N) # this is the latest point when we'll run into numerical problems\n",
        "\n",
        "rmse_mle = np.zeros((K_max+1,))\n",
        "rmse_map = np.zeros((K_max+1,))\n",
        "\n",
        "for k in range(K_max+1):\n",
        "   \n",
        "    Phi = poly_features(X, k)\n",
        "\n",
        "    #Compute the maximum likelihood estimator\n",
        "    theta_ml = nonlinear_features_maximum_likelihood(Phi, y)\n",
        "\n",
        "    Phi_test = poly_features(Xtest, k)\n",
        "\n",
        "    #Compute the test-set predicitons\n",
        "    y_pred_mle = Phi_test @ theta_ml\n",
        "\n",
        "    #Compute the RMSE\n",
        "    rmse_mle[k] = RMSE(ytest, y_pred_mle)\n",
        "\n",
        "    #Compute the MAP estimator\n",
        "    theta_map = map_estimate_poly(Phi, y, sigma, alpha)\n",
        "\n",
        "    #Compute the test-set predicitons\n",
        "    y_pred_map = Phi_test @ theta_map\n",
        "\n",
        "    #Compute the RMSE\n",
        "    rmse_map[k] = RMSE(ytest, y_pred_map)\n",
        "\n",
        "plt.figure()\n",
        "plt.semilogy(rmse_mle) # this plots the RMSE on a logarithmic scale\n",
        "plt.semilogy(rmse_map) # this plots the RMSE on a logarithmic scale\n",
        "plt.xlabel(\"degree of polynomial\")\n",
        "plt.ylabel(\"RMSE\")\n",
        "plt.legend([\"Maximum likelihood\", \"MAP\"])"
      ]
    },
    {
      "cell_type": "markdown",
      "metadata": {
        "id": "-wxa1pwUBufR"
      },
      "source": [
        "#### Questions:\n",
        "1. What do you observe?\n",
        "2. What is the influence of the prior variance on the parameters ($\\alpha^2$)? Change the parameter and describe what happens."
      ]
    },
    {
      "cell_type": "markdown",
      "metadata": {
        "id": "m4gApsiHBufR"
      },
      "source": [
        "## 3. Bayesian Linear Regression"
      ]
    },
    {
      "cell_type": "code",
      "execution_count": 401,
      "metadata": {
        "collapsed": true,
        "id": "sJUrJqdnBufR",
        "colab": {
          "base_uri": "https://localhost:8080/"
        },
        "outputId": "490d8658-7f85-44d9-f629-bbe419a2797e"
      },
      "outputs": [
        {
          "output_type": "stream",
          "name": "stdout",
          "text": [
            "(200, 1)\n"
          ]
        }
      ],
      "source": [
        "# Test inputs\n",
        "Ntest = 200\n",
        "Xtest = np.linspace(-5, 5, Ntest).reshape(-1,1) # test inputs\n",
        "print(Xtest.shape)\n",
        "prior_var = 2.0 # variance of the parameter prior (alpha^2). We assume this is known.\n",
        "noise_var = 1.0 # noise variance (sigma^2). We assume this is known.\n",
        "\n",
        "pol_deg = 3 # degree of the polynomial we consider at the moment"
      ]
    },
    {
      "cell_type": "markdown",
      "metadata": {
        "id": "uhwfTtfmBufR"
      },
      "source": [
        "Assume a parameter prior $p(\\boldsymbol\\theta) = \\mathcal N (\\boldsymbol 0, \\alpha^2\\boldsymbol I)$. For every test input $\\boldsymbol x_*$ we obtain the \n",
        "prior mean\n",
        "$$\n",
        "E[f(\\boldsymbol x_*)] = 0\n",
        "$$\n",
        "and the prior (marginal) variance (ignoring the noise contribution)\n",
        "$$\n",
        "V[f(\\boldsymbol x_*)] = \\alpha^2\\boldsymbol\\phi(\\boldsymbol x_*) \\boldsymbol\\phi(\\boldsymbol x_*)^\\top\n",
        "$$\n",
        "where $\\boldsymbol\\phi(\\cdot)$ is the feature map."
      ]
    },
    {
      "cell_type": "code",
      "execution_count": 402,
      "metadata": {
        "collapsed": true,
        "id": "Fq1r-sXYBufR",
        "colab": {
          "base_uri": "https://localhost:8080/",
          "height": 295
        },
        "outputId": "8465dd32-91ac-4798-98d1-b495d7420c80"
      },
      "outputs": [
        {
          "output_type": "display_data",
          "data": {
            "text/plain": [
              "<Figure size 432x288 with 1 Axes>"
            ],
            "image/png": "[encoded data removed]"
          },
          "metadata": {
            "needs_background": "light"
          }
        }
      ],
      "source": [
        "\n",
        "# compute the feature matrix for the test inputs\n",
        "Phi_test = poly_features(Xtest, pol_deg)  # N x (pol_deg+1) feature matrix\n",
        "\n",
        "# compute the (marginal) prior at the test input locations\n",
        "# prior mean\n",
        "prior_mean = np.zeros((Ntest,1))  # prior mean at test inputs (size: (Ntest,1))\n",
        "\n",
        "# prior variance\n",
        "full_covariance = prior_var * Phi_test @ Phi_test.T # N x N covariance matrix of all function values\n",
        "prior_marginal_var = np.diag(full_covariance) # marginal of size (N, )\n",
        "#raise NotImplementedError\n",
        "\n",
        "# Let us visualize the prior over functions\n",
        "plt.figure()\n",
        "plt.plot(Xtest, prior_mean, color=\"k\")\n",
        "\n",
        "conf_bound1 = np.sqrt(prior_marginal_var).flatten()\n",
        "conf_bound2 = 2.0*np.sqrt(prior_marginal_var).flatten()\n",
        "conf_bound3 = 2.0*np.sqrt(prior_marginal_var + noise_var).flatten()\n",
        "\n",
        "plt.fill_between(Xtest.flatten(), prior_mean.flatten() + conf_bound1, prior_mean.flatten() - conf_bound1, alpha = 0.1, color=\"k\")\n",
        "plt.fill_between(Xtest.flatten(), prior_mean.flatten() + conf_bound2, prior_mean.flatten() - conf_bound2, alpha = 0.1, color=\"k\")\n",
        "plt.fill_between(Xtest.flatten(), prior_mean.flatten() + conf_bound3, prior_mean.flatten() - conf_bound3, alpha = 0.1, color=\"k\")\n",
        "\n",
        "plt.xlabel('$x$')\n",
        "plt.ylabel('$y$')\n",
        "plt.title(\"Prior over functions\");"
      ]
    },
    {
      "cell_type": "markdown",
      "metadata": {
        "id": "mwOtHpKcBufR"
      },
      "source": [
        "Now, we will use this prior distribution and sample functions from it."
      ]
    },
    {
      "cell_type": "code",
      "execution_count": 403,
      "metadata": {
        "collapsed": true,
        "id": "vPQg28eSBufR",
        "colab": {
          "base_uri": "https://localhost:8080/",
          "height": 298
        },
        "outputId": "e1da9ed5-efdb-45d0-ac0c-04a8949ce509"
      },
      "outputs": [
        {
          "output_type": "stream",
          "name": "stdout",
          "text": [
            "Every sampled function is a polynomial of degree 3\n"
          ]
        },
        {
          "output_type": "display_data",
          "data": {
            "text/plain": [
              "<Figure size 432x288 with 1 Axes>"
            ],
            "image/png": "[encoded data removed]"
          },
          "metadata": {
            "needs_background": "light"
          }
        }
      ],
      "source": [
        "\n",
        "# samples from the prior\n",
        "num_samples = 10\n",
        "\n",
        "# We first need to generate random weights theta_i, which we sample from the parameter prior\n",
        "random_weights = np.random.normal(size=(pol_deg+1,num_samples), scale=np.sqrt(prior_var))\n",
        "\n",
        "# Now, we compute the induced random functions, evaluated at the test input locations\n",
        "# Every function sample is given as f_i = Phi * theta_i, \n",
        "# where theta_i is a sample from the parameter prior\n",
        "\n",
        "sample_function = Phi_test @ random_weights\n",
        "#raise NotImplementedError\n",
        "\n",
        "plt.figure()\n",
        "plt.plot(Xtest, sample_function, color=\"r\")\n",
        "plt.title(\"Plausible functions under the prior\")\n",
        "print(\"Every sampled function is a polynomial of degree \"+str(pol_deg));"
      ]
    },
    {
      "cell_type": "markdown",
      "metadata": {
        "id": "uNOgINZkBufS"
      },
      "source": [
        "Now we are given some training inputs $\\boldsymbol x_1, \\dotsc, \\boldsymbol x_N$, which we collect in a matrix $\\boldsymbol X = [\\boldsymbol x_1, \\dotsc, \\boldsymbol x_N]^\\top\\in\\mathbb{R}^{N\\times D}$"
      ]
    },
    {
      "cell_type": "code",
      "execution_count": 404,
      "metadata": {
        "collapsed": true,
        "id": "GhqL1aJmBufS"
      },
      "outputs": [],
      "source": [
        "N = 10\n",
        "X = np.random.uniform(high=5, low=-5, size=(N,1)) # training inputs, size Nx1\n",
        "y = g(X, np.sqrt(noise_var)) # training targets, size Nx1"
      ]
    },
    {
      "cell_type": "markdown",
      "metadata": {
        "id": "wwije-fPBufS"
      },
      "source": [
        "Now, let us compute the posterior "
      ]
    },
    {
      "cell_type": "code",
      "execution_count": 405,
      "metadata": {
        "collapsed": true,
        "id": "jG9mmeiWBufS"
      },
      "outputs": [],
      "source": [
        "\n",
        "def polyfit(X, y, K, prior_var, noise_var):\n",
        "    # X: training inputs, size N x D\n",
        "    # y: training targets, size N x 1\n",
        "    # K: degree of polynomial we consider\n",
        "    # prior_var: prior variance of the parameter distribution\n",
        "    # sigma: noise variance\n",
        "    \n",
        "    jitter = 1e-08 # increases numerical stability\n",
        "    \n",
        "    Phi = poly_features(X, K) # N x (K+1) feature matrix \n",
        "    \n",
        "    # maximum likelihood estimate\n",
        "    theta_ml = nonlinear_features_maximum_likelihood(Phi, y)\n",
        "    \n",
        "    # MAP estimate\n",
        "    theta_map = map_estimate_poly(Phi, y, sigma, prior_var)\n",
        "\n",
        "    # parameter posterior\n",
        "    Pt = Phi.T @ y # Phi*y, size (K+1,1)\n",
        "    PP = Phi.T @ Phi + jitter*np.eye(K+1) # Phi*Phi.T + jitter,  size (K+1, K+1)\n",
        "\n",
        "    iSN = (np.eye(K+1)/prior_var + PP) # posterior precision\n",
        "    SN = scipy.linalg.inv(iSN)  # posterior covariance\n",
        "    mN = SN @ Pt # posterior mean\n",
        "    \n",
        "    #raise NotImplementedError\n",
        "    \n",
        "    return (theta_ml, theta_map, mN, SN)"
      ]
    },
    {
      "cell_type": "code",
      "execution_count": 406,
      "metadata": {
        "collapsed": true,
        "id": "ej-dHhADBufS"
      },
      "outputs": [],
      "source": [
        "theta_ml, theta_map, theta_mean, theta_var = polyfit(X, y, pol_deg, alpha, sigma)"
      ]
    },
    {
      "cell_type": "markdown",
      "metadata": {
        "id": "B4wDAmvkBufS"
      },
      "source": [
        "Now, let's make predictions (ignoring the measurement noise). We obtain three predictors:\n",
        "\\begin{align}\n",
        "&\\text{Maximum likelihood: }E[f(\\boldsymbol X_{\\text{test}})] = \\boldsymbol \\phi(X_{\\text{test}})\\boldsymbol \\theta_{ml}\\\\\n",
        "&\\text{Maximum a posteriori: } E[f(\\boldsymbol X_{\\text{test}})] = \\boldsymbol \\phi(X_{\\text{test}})\\boldsymbol \\theta_{map}\\\\\n",
        "&\\text{Bayesian: } p(f(\\boldsymbol X_{\\text{test}})) = \\mathcal N(f(\\boldsymbol X_{\\text{test}}) \\,|\\, \\boldsymbol \\phi(X_{\\text{test}}) \\boldsymbol\\theta_{\\text{mean}},\\, \\boldsymbol\\phi(X_{\\text{test}}) \\boldsymbol\\theta_{\\text{var}}  \\boldsymbol\\phi(X_{\\text{test}})^\\top)\n",
        "\\end{align}\n",
        "We already computed all quantities. Write some code that implements all three predictors."
      ]
    },
    {
      "cell_type": "code",
      "execution_count": 407,
      "metadata": {
        "collapsed": true,
        "id": "pv2r8a7jBufS"
      },
      "outputs": [],
      "source": [
        "## EDIT THIS CELL\n",
        "# predictions (ignoring the measurement/observations noise)\n",
        "\n",
        "Phi_test = poly_features(Xtest, pol_deg) # N x (K+1)\n",
        "\n",
        "# maximum likelihood predictions (just the mean)\n",
        "m_mle_test = Phi_test @ theta_ml\n",
        "\n",
        "# MAP predictions (just the mean)\n",
        "m_map_test = Phi_test @ theta_map\n",
        "\n",
        "# predictive distribution (Bayesian linear regression)\n",
        "# mean prediction\n",
        "mean_blr = Phi_test @ theta_mean\n",
        "# variance prediction\n",
        "cov_blr =  Phi_test @ theta_var @ Phi_test.T"
      ]
    },
    {
      "cell_type": "code",
      "execution_count": 408,
      "metadata": {
        "id": "evEb9n2qBufS",
        "colab": {
          "base_uri": "https://localhost:8080/",
          "height": 281
        },
        "outputId": "a6e5f6d8-41cf-4722-9e16-aefbacadbd14"
      },
      "outputs": [
        {
          "output_type": "display_data",
          "data": {
            "text/plain": [
              "<Figure size 432x288 with 1 Axes>"
            ],
            "image/png": "[encoded data removed]"
          },
          "metadata": {
            "needs_background": "light"
          }
        }
      ],
      "source": [
        "# plot the posterior\n",
        "plt.figure()\n",
        "plt.plot(X, y, \"+\")\n",
        "plt.plot(Xtest, m_mle_test)\n",
        "plt.plot(Xtest, m_map_test)\n",
        "var_blr = np.diag(cov_blr)\n",
        "conf_bound1 = np.sqrt(var_blr).flatten()\n",
        "conf_bound2 = 2.0*np.sqrt(var_blr).flatten()\n",
        "conf_bound3 = 2.0*np.sqrt(var_blr + sigma).flatten()\n",
        "\n",
        "plt.fill_between(Xtest.flatten(), mean_blr.flatten() + conf_bound1, \n",
        "                 mean_blr.flatten() - conf_bound1, alpha = 0.1, color=\"k\")\n",
        "plt.fill_between(Xtest.flatten(), mean_blr.flatten() + conf_bound2, \n",
        "                 mean_blr.flatten() - conf_bound2, alpha = 0.1, color=\"k\")\n",
        "plt.fill_between(Xtest.flatten(), mean_blr.flatten() + conf_bound3, \n",
        "                 mean_blr.flatten() - conf_bound3, alpha = 0.1, color=\"k\")\n",
        "plt.legend([\"Training data\", \"MLE\", \"MAP\", \"BLR\"])\n",
        "plt.xlabel('$x$');\n",
        "plt.ylabel('$y$');"
      ]
    }
  ],
  "metadata": {
    "kernelspec": {
      "display_name": "Python 3",
      "language": "python",
      "name": "python3"
    },
    "language_info": {
      "codemirror_mode": {
        "name": "ipython",
        "version": 3
      },
      "file_extension": ".py",
      "mimetype": "text/x-python",
      "name": "python",
      "nbconvert_exporter": "python",
      "pygments_lexer": "ipython3",
      "version": "3.7.3"
    },
    "colab": {
      "provenance": []
    }
  },
  "nbformat": 4,
  "nbformat_minor": 0
}